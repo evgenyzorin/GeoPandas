{
  "cells": [
    {
      "cell_type": "code",
      "execution_count": null,
      "metadata": {
        "id": "yfTtxtTZeqs_"
      },
      "outputs": [],
      "source": [
        "# !pip install geopandas\n",
        "# !pip install rtree"
      ]
    },
    {
      "cell_type": "code",
      "execution_count": null,
      "metadata": {
        "id": "SuYYfgb0ecq7"
      },
      "outputs": [],
      "source": [
        "import pandas as pd\n",
        "import geopandas as gpd\n",
        "import matplotlib.pyplot as plt"
      ]
    },
    {
      "cell_type": "code",
      "execution_count": null,
      "metadata": {
        "id": "cawkaRO0epsn"
      },
      "outputs": [],
      "source": [
        "# Links to pull data from the DC OpenData portal\n",
        "\n",
        "neighborhood_clusters = \"https://opendata.arcgis.com/datasets/f6c703ebe2534fc3800609a07bad8f5b_17.geojson\"\n",
        "\n",
        "construction_permits = {\n",
        "    \"2021\": \"https://opendata.arcgis.com/datasets/da3da798fb4f4f0e9de5c3a17c39351f_10.geojson\",\n",
        "    \"2020\": \"https://opendata.arcgis.com/datasets/ac617c291bbd466bbbea6272f87811d3_8.geojson\",\n",
        "    \"2019\": \"https://opendata.arcgis.com/datasets/107f535e5d3347a8ac1e46dbc13669d4_6.geojson\",\n",
        "    \"2018\": \"https://opendata.arcgis.com/datasets/ca581e1b455a46caa266e3476f8205d2_0.geojson\",\n",
        "    \"2017\": \"https://opendata.arcgis.com/datasets/585c8c3ef58c4f1ab1ddf1c759b3a8bd_39.geojson\",\n",
        "    \"2016\": \"https://opendata.arcgis.com/datasets/2dc1a7dbb705471eb38af39acfa16238_28.geojson\", \n",
        "    \"2015\": \"https://opendata.arcgis.com/datasets/b3283607f9b74457aff420081eec3190_29.geojson\",\n",
        "    \"2014\": \"https://opendata.arcgis.com/datasets/54b57e15f6944af8b413a5e4f88b070c_13.geojson\",\n",
        "    \"2013\": \"https://opendata.arcgis.com/datasets/3d49e06d51984fa2b68f21eed21eba1f_14.geojson\",\n",
        "    \"2012\": \"https://opendata.arcgis.com/datasets/9cbe8553d4e2456ab6c140d83c7e83e0_15.geojson\"\n",
        "}"
      ]
    },
    {
      "cell_type": "markdown",
      "metadata": {
        "id": "58KGbYltmFD2"
      },
      "source": [
        "# Read the Neighborhood Clusters File"
      ]
    },
    {
      "cell_type": "code",
      "execution_count": null,
      "metadata": {
        "colab": {
          "base_uri": "https://localhost:8080/",
          "height": 337
        },
        "id": "w3OBO6mRfFx2",
        "outputId": "f16c9dc3-e4cc-4bca-d6a4-f60ab2ea5037"
      },
      "outputs": [
        {
          "output_type": "execute_result",
          "data": {
            "text/plain": [
              "   OBJECTID                  WEB_URL        NAME  \\\n",
              "0         1  http://planning.dc.gov/  Cluster 16   \n",
              "1         2                     None  Cluster 41   \n",
              "2         3  http://planning.dc.gov/  Cluster 10   \n",
              "3         4  http://planning.dc.gov/  Cluster 17   \n",
              "4         5                     None  Cluster 40   \n",
              "\n",
              "                                           NBH_NAMES        TYPE  \\\n",
              "0  Colonial Village, Shepherd Park, North Portal ...    Original   \n",
              "1                                    Rock Creek Park  Additional   \n",
              "2              Hawthorne, Barnaby Woods, Chevy Chase    Original   \n",
              "3                     Takoma, Brightwood, Manor Park    Original   \n",
              "4                                        Walter Reed  Additional   \n",
              "\n",
              "                                 GLOBALID CREATOR CREATED EDITOR EDITED  \\\n",
              "0  {8D235E97-D58C-4891-943E-307143103BD9}    None    None   None   None   \n",
              "1  {939C23A8-8EE2-4B4F-85EE-88281BCCC9A0}    None    None   None   None   \n",
              "2  {8EADC8B8-3DAD-4E5D-AAF8-BF63D8316317}    None    None   None   None   \n",
              "3  {5BF4BCEC-5022-4B96-9577-C0246154197C}    None    None   None   None   \n",
              "4  {C6705A7B-212E-419A-93CB-DA60707D0C37}    None    None   None   None   \n",
              "\n",
              "   SHAPEAREA  SHAPELEN                                           geometry  \n",
              "0          0         0  POLYGON ((-77.02829 38.98608, -77.02952 38.987...  \n",
              "1          0         0  POLYGON ((-77.04391 38.98432, -77.04418 38.984...  \n",
              "2          0         0  POLYGON ((-77.05530 38.95900, -77.05530 38.959...  \n",
              "3          0         0  POLYGON ((-77.01418 38.97237, -77.01403 38.972...  \n",
              "4          0         0  POLYGON ((-77.03286 38.97800, -77.03297 38.978...  "
            ],
            "text/html": [
              "\n",
              "  <div id=\"df-ee2a6aa2-53dc-487f-bc48-3dce6e24aa35\">\n",
              "    <div class=\"colab-df-container\">\n",
              "      <div>\n",
              "<style scoped>\n",
              "    .dataframe tbody tr th:only-of-type {\n",
              "        vertical-align: middle;\n",
              "    }\n",
              "\n",
              "    .dataframe tbody tr th {\n",
              "        vertical-align: top;\n",
              "    }\n",
              "\n",
              "    .dataframe thead th {\n",
              "        text-align: right;\n",
              "    }\n",
              "</style>\n",
              "<table border=\"1\" class=\"dataframe\">\n",
              "  <thead>\n",
              "    <tr style=\"text-align: right;\">\n",
              "      <th></th>\n",
              "      <th>OBJECTID</th>\n",
              "      <th>WEB_URL</th>\n",
              "      <th>NAME</th>\n",
              "      <th>NBH_NAMES</th>\n",
              "      <th>TYPE</th>\n",
              "      <th>GLOBALID</th>\n",
              "      <th>CREATOR</th>\n",
              "      <th>CREATED</th>\n",
              "      <th>EDITOR</th>\n",
              "      <th>EDITED</th>\n",
              "      <th>SHAPEAREA</th>\n",
              "      <th>SHAPELEN</th>\n",
              "      <th>geometry</th>\n",
              "    </tr>\n",
              "  </thead>\n",
              "  <tbody>\n",
              "    <tr>\n",
              "      <th>0</th>\n",
              "      <td>1</td>\n",
              "      <td>http://planning.dc.gov/</td>\n",
              "      <td>Cluster 16</td>\n",
              "      <td>Colonial Village, Shepherd Park, North Portal ...</td>\n",
              "      <td>Original</td>\n",
              "      <td>{8D235E97-D58C-4891-943E-307143103BD9}</td>\n",
              "      <td>None</td>\n",
              "      <td>None</td>\n",
              "      <td>None</td>\n",
              "      <td>None</td>\n",
              "      <td>0</td>\n",
              "      <td>0</td>\n",
              "      <td>POLYGON ((-77.02829 38.98608, -77.02952 38.987...</td>\n",
              "    </tr>\n",
              "    <tr>\n",
              "      <th>1</th>\n",
              "      <td>2</td>\n",
              "      <td>None</td>\n",
              "      <td>Cluster 41</td>\n",
              "      <td>Rock Creek Park</td>\n",
              "      <td>Additional</td>\n",
              "      <td>{939C23A8-8EE2-4B4F-85EE-88281BCCC9A0}</td>\n",
              "      <td>None</td>\n",
              "      <td>None</td>\n",
              "      <td>None</td>\n",
              "      <td>None</td>\n",
              "      <td>0</td>\n",
              "      <td>0</td>\n",
              "      <td>POLYGON ((-77.04391 38.98432, -77.04418 38.984...</td>\n",
              "    </tr>\n",
              "    <tr>\n",
              "      <th>2</th>\n",
              "      <td>3</td>\n",
              "      <td>http://planning.dc.gov/</td>\n",
              "      <td>Cluster 10</td>\n",
              "      <td>Hawthorne, Barnaby Woods, Chevy Chase</td>\n",
              "      <td>Original</td>\n",
              "      <td>{8EADC8B8-3DAD-4E5D-AAF8-BF63D8316317}</td>\n",
              "      <td>None</td>\n",
              "      <td>None</td>\n",
              "      <td>None</td>\n",
              "      <td>None</td>\n",
              "      <td>0</td>\n",
              "      <td>0</td>\n",
              "      <td>POLYGON ((-77.05530 38.95900, -77.05530 38.959...</td>\n",
              "    </tr>\n",
              "    <tr>\n",
              "      <th>3</th>\n",
              "      <td>4</td>\n",
              "      <td>http://planning.dc.gov/</td>\n",
              "      <td>Cluster 17</td>\n",
              "      <td>Takoma, Brightwood, Manor Park</td>\n",
              "      <td>Original</td>\n",
              "      <td>{5BF4BCEC-5022-4B96-9577-C0246154197C}</td>\n",
              "      <td>None</td>\n",
              "      <td>None</td>\n",
              "      <td>None</td>\n",
              "      <td>None</td>\n",
              "      <td>0</td>\n",
              "      <td>0</td>\n",
              "      <td>POLYGON ((-77.01418 38.97237, -77.01403 38.972...</td>\n",
              "    </tr>\n",
              "    <tr>\n",
              "      <th>4</th>\n",
              "      <td>5</td>\n",
              "      <td>None</td>\n",
              "      <td>Cluster 40</td>\n",
              "      <td>Walter Reed</td>\n",
              "      <td>Additional</td>\n",
              "      <td>{C6705A7B-212E-419A-93CB-DA60707D0C37}</td>\n",
              "      <td>None</td>\n",
              "      <td>None</td>\n",
              "      <td>None</td>\n",
              "      <td>None</td>\n",
              "      <td>0</td>\n",
              "      <td>0</td>\n",
              "      <td>POLYGON ((-77.03286 38.97800, -77.03297 38.978...</td>\n",
              "    </tr>\n",
              "  </tbody>\n",
              "</table>\n",
              "</div>\n",
              "      <button class=\"colab-df-convert\" onclick=\"convertToInteractive('df-ee2a6aa2-53dc-487f-bc48-3dce6e24aa35')\"\n",
              "              title=\"Convert this dataframe to an interactive table.\"\n",
              "              style=\"display:none;\">\n",
              "        \n",
              "  <svg xmlns=\"http://www.w3.org/2000/svg\" height=\"24px\"viewBox=\"0 0 24 24\"\n",
              "       width=\"24px\">\n",
              "    <path d=\"M0 0h24v24H0V0z\" fill=\"none\"/>\n",
              "    <path d=\"M18.56 5.44l.94 2.06.94-2.06 2.06-.94-2.06-.94-.94-2.06-.94 2.06-2.06.94zm-11 1L8.5 8.5l.94-2.06 2.06-.94-2.06-.94L8.5 2.5l-.94 2.06-2.06.94zm10 10l.94 2.06.94-2.06 2.06-.94-2.06-.94-.94-2.06-.94 2.06-2.06.94z\"/><path d=\"M17.41 7.96l-1.37-1.37c-.4-.4-.92-.59-1.43-.59-.52 0-1.04.2-1.43.59L10.3 9.45l-7.72 7.72c-.78.78-.78 2.05 0 2.83L4 21.41c.39.39.9.59 1.41.59.51 0 1.02-.2 1.41-.59l7.78-7.78 2.81-2.81c.8-.78.8-2.07 0-2.86zM5.41 20L4 18.59l7.72-7.72 1.47 1.35L5.41 20z\"/>\n",
              "  </svg>\n",
              "      </button>\n",
              "      \n",
              "  <style>\n",
              "    .colab-df-container {\n",
              "      display:flex;\n",
              "      flex-wrap:wrap;\n",
              "      gap: 12px;\n",
              "    }\n",
              "\n",
              "    .colab-df-convert {\n",
              "      background-color: #E8F0FE;\n",
              "      border: none;\n",
              "      border-radius: 50%;\n",
              "      cursor: pointer;\n",
              "      display: none;\n",
              "      fill: #1967D2;\n",
              "      height: 32px;\n",
              "      padding: 0 0 0 0;\n",
              "      width: 32px;\n",
              "    }\n",
              "\n",
              "    .colab-df-convert:hover {\n",
              "      background-color: #E2EBFA;\n",
              "      box-shadow: 0px 1px 2px rgba(60, 64, 67, 0.3), 0px 1px 3px 1px rgba(60, 64, 67, 0.15);\n",
              "      fill: #174EA6;\n",
              "    }\n",
              "\n",
              "    [theme=dark] .colab-df-convert {\n",
              "      background-color: #3B4455;\n",
              "      fill: #D2E3FC;\n",
              "    }\n",
              "\n",
              "    [theme=dark] .colab-df-convert:hover {\n",
              "      background-color: #434B5C;\n",
              "      box-shadow: 0px 1px 3px 1px rgba(0, 0, 0, 0.15);\n",
              "      filter: drop-shadow(0px 1px 2px rgba(0, 0, 0, 0.3));\n",
              "      fill: #FFFFFF;\n",
              "    }\n",
              "  </style>\n",
              "\n",
              "      <script>\n",
              "        const buttonEl =\n",
              "          document.querySelector('#df-ee2a6aa2-53dc-487f-bc48-3dce6e24aa35 button.colab-df-convert');\n",
              "        buttonEl.style.display =\n",
              "          google.colab.kernel.accessAllowed ? 'block' : 'none';\n",
              "\n",
              "        async function convertToInteractive(key) {\n",
              "          const element = document.querySelector('#df-ee2a6aa2-53dc-487f-bc48-3dce6e24aa35');\n",
              "          const dataTable =\n",
              "            await google.colab.kernel.invokeFunction('convertToInteractive',\n",
              "                                                     [key], {});\n",
              "          if (!dataTable) return;\n",
              "\n",
              "          const docLinkHtml = 'Like what you see? Visit the ' +\n",
              "            '<a target=\"_blank\" href=https://colab.research.google.com/notebooks/data_table.ipynb>data table notebook</a>'\n",
              "            + ' to learn more about interactive tables.';\n",
              "          element.innerHTML = '';\n",
              "          dataTable['output_type'] = 'display_data';\n",
              "          await google.colab.output.renderOutput(dataTable, element);\n",
              "          const docLink = document.createElement('div');\n",
              "          docLink.innerHTML = docLinkHtml;\n",
              "          element.appendChild(docLink);\n",
              "        }\n",
              "      </script>\n",
              "    </div>\n",
              "  </div>\n",
              "  "
            ]
          },
          "metadata": {},
          "execution_count": 4
        }
      ],
      "source": [
        "gdf_clusters = gpd.read_file(neighborhood_clusters, driver=\"geoJSON\")\n",
        "gdf_clusters.head()"
      ]
    },
    {
      "cell_type": "code",
      "execution_count": null,
      "metadata": {
        "colab": {
          "base_uri": "https://localhost:8080/"
        },
        "id": "5S6fhGCifPWE",
        "outputId": "a9551d5c-58b2-46cb-8159-5a94d01fd0b1"
      },
      "outputs": [
        {
          "output_type": "execute_result",
          "data": {
            "text/plain": [
              "geopandas.geodataframe.GeoDataFrame"
            ]
          },
          "metadata": {},
          "execution_count": 5
        }
      ],
      "source": [
        "type(gdf_clusters)"
      ]
    },
    {
      "cell_type": "code",
      "execution_count": null,
      "metadata": {
        "colab": {
          "base_uri": "https://localhost:8080/"
        },
        "id": "eCRVlhKFlvZ7",
        "outputId": "5edc037c-df4f-4329-9c72-e1c172412c96"
      },
      "outputs": [
        {
          "output_type": "execute_result",
          "data": {
            "text/plain": [
              "<Geographic 2D CRS: EPSG:4326>\n",
              "Name: WGS 84\n",
              "Axis Info [ellipsoidal]:\n",
              "- Lat[north]: Geodetic latitude (degree)\n",
              "- Lon[east]: Geodetic longitude (degree)\n",
              "Area of Use:\n",
              "- name: World.\n",
              "- bounds: (-180.0, -90.0, 180.0, 90.0)\n",
              "Datum: World Geodetic System 1984 ensemble\n",
              "- Ellipsoid: WGS 84\n",
              "- Prime Meridian: Greenwich"
            ]
          },
          "metadata": {},
          "execution_count": 6
        }
      ],
      "source": [
        "gdf_clusters.crs"
      ]
    },
    {
      "cell_type": "code",
      "execution_count": null,
      "metadata": {
        "colab": {
          "base_uri": "https://localhost:8080/"
        },
        "id": "IS6TQcNQl0iV",
        "outputId": "562ceca4-2333-4a80-e02d-b7ecd7c77512"
      },
      "outputs": [
        {
          "output_type": "execute_result",
          "data": {
            "text/plain": [
              "293472467.71598655"
            ]
          },
          "metadata": {},
          "execution_count": 7
        }
      ],
      "source": [
        "gdf_clusters.to_crs(3857).area.sum()"
      ]
    },
    {
      "cell_type": "code",
      "execution_count": null,
      "metadata": {
        "colab": {
          "base_uri": "https://localhost:8080/",
          "height": 283
        },
        "id": "0o5iJE-Zl4-N",
        "outputId": "4e566cf0-fcb6-4def-e05c-492ab9e657a5"
      },
      "outputs": [
        {
          "output_type": "execute_result",
          "data": {
            "text/plain": [
              "<matplotlib.axes._subplots.AxesSubplot at 0x7f24a0963550>"
            ]
          },
          "metadata": {},
          "execution_count": 8
        },
        {
          "output_type": "display_data",
          "data": {
            "text/plain": [
              "<Figure size 432x288 with 1 Axes>"
            ],
            "image/png": "[encoded data removed]"
          },
          "metadata": {
            "needs_background": "light"
          }
        }
      ],
      "source": [
        "gdf_clusters.plot()"
      ]
    },
    {
      "cell_type": "markdown",
      "metadata": {
        "id": "SHY1pDbImQb-"
      },
      "source": [
        "# Read the Construction Permits Files"
      ]
    },
    {
      "cell_type": "code",
      "execution_count": null,
      "metadata": {
        "id": "ID9jM8F7l7A1"
      },
      "outputs": [],
      "source": [
        "gdf_list = []\n",
        "for year, url in construction_permits.items():  \n",
        "    gdf_permits = gpd.read_file(url, driver=\"geoJSON\")\n",
        "    gdf_permits[\"year\"] = year\n",
        "    \n",
        "    gdf_list.append(gdf_permits)"
      ]
    },
    {
      "cell_type": "code",
      "execution_count": null,
      "metadata": {
        "id": "tpd55F7Xm9Rh",
        "colab": {
          "base_uri": "https://localhost:8080/"
        },
        "outputId": "aa3938ab-e9f0-4df0-9101-9ea61880e4b5"
      },
      "outputs": [
        {
          "output_type": "execute_result",
          "data": {
            "text/plain": [
              "(151150, 34)"
            ]
          },
          "metadata": {},
          "execution_count": 10
        }
      ],
      "source": [
        "gdf = pd.concat(gdf_list)\n",
        "gdf.shape"
      ]
    },
    {
      "cell_type": "markdown",
      "source": [
        "# Add Cluster and Neighborhood Name to the Permit Data"
      ],
      "metadata": {
        "id": "UtxsMOEIqaoN"
      }
    },
    {
      "cell_type": "code",
      "source": [
        "gdf_join = gdf.sjoin(gdf_clusters[[\"NAME\", \"NBH_NAMES\", \"geometry\"]], how=\"left\", predicate=\"within\")\n",
        "gdf_join.head()"
      ],
      "metadata": {
        "colab": {
          "base_uri": "https://localhost:8080/",
          "height": 543
        },
        "id": "WkcuwtaGnzbi",
        "outputId": "b6bf2cac-a9e2-4df3-8782-9a15a08ff161"
      },
      "execution_count": null,
      "outputs": [
        {
          "output_type": "execute_result",
          "data": {
            "text/plain": [
              "    OBJECTID            APPLICATIONDATE ISEXCAVATION ISFIXTURE ISPAVING  \\\n",
              "0  132528624  2019-11-23T05:31:31+00:00            F         T        F   \n",
              "1  132528627  2020-08-06T19:02:10+00:00            F         F        F   \n",
              "2  132528632  2021-01-08T13:27:32+00:00            F         F        F   \n",
              "3  132528636  2021-01-13T03:48:18+00:00            F         F        F   \n",
              "4  132528642  2021-01-18T22:20:40+00:00            F         F        F   \n",
              "\n",
              "  ISLANDSCAPING ISPROJECTIONS ISPSRENTAL TRACKINGNUMBER PERMITNUMBER  ...  \\\n",
              "0             F             F          F         341767     PA341767  ...   \n",
              "1             F             F          F         357263     PA357263  ...   \n",
              "2             F             F          F         365940     PA365940  ...   \n",
              "3             F             F          F         366176     PA366176  ...   \n",
              "4             F             F          F         366448     PA366448  ...   \n",
              "\n",
              "                                 GLOBALID CREATOR CREATED EDITOR  EDITED  \\\n",
              "0  {E710C9D0-3E24-0BAF-E053-782F520A589B}    None    None   None    None   \n",
              "1  {E710C9D0-3E27-0BAF-E053-782F520A589B}    None    None   None    None   \n",
              "2  {E710C9D0-3E2C-0BAF-E053-782F520A589B}    None    None   None    None   \n",
              "3  {E710C9D0-3E30-0BAF-E053-782F520A589B}    None    None   None    None   \n",
              "4  {E710C9D0-3E36-0BAF-E053-782F520A589B}    None    None   None    None   \n",
              "\n",
              "                     geometry  year index_right        NAME  \\\n",
              "0  POINT (-76.97442 38.92237)  2021        20.0  Cluster 22   \n",
              "1  POINT (-77.03343 38.95947)  2021         7.0  Cluster 18   \n",
              "2  POINT (-76.94746 38.90043)  2021        33.0  Cluster 30   \n",
              "3  POINT (-76.94260 38.89600)  2021        33.0  Cluster 30   \n",
              "4  POINT (-77.03137 38.94523)  2021         7.0  Cluster 18   \n",
              "\n",
              "                              NBH_NAMES  \n",
              "0         Brookland, Brentwood, Langdon  \n",
              "1  Brightwood Park, Crestwood, Petworth  \n",
              "2  Mayfair, Hillbrook, Mahaning Heights  \n",
              "3  Mayfair, Hillbrook, Mahaning Heights  \n",
              "4  Brightwood Park, Crestwood, Petworth  \n",
              "\n",
              "[5 rows x 37 columns]"
            ],
            "text/html": [
              "\n",
              "  <div id=\"df-150a4930-86dc-4cab-902b-d85d2da91154\">\n",
              "    <div class=\"colab-df-container\">\n",
              "      <div>\n",
              "<style scoped>\n",
              "    .dataframe tbody tr th:only-of-type {\n",
              "        vertical-align: middle;\n",
              "    }\n",
              "\n",
              "    .dataframe tbody tr th {\n",
              "        vertical-align: top;\n",
              "    }\n",
              "\n",
              "    .dataframe thead th {\n",
              "        text-align: right;\n",
              "    }\n",
              "</style>\n",
              "<table border=\"1\" class=\"dataframe\">\n",
              "  <thead>\n",
              "    <tr style=\"text-align: right;\">\n",
              "      <th></th>\n",
              "      <th>OBJECTID</th>\n",
              "      <th>APPLICATIONDATE</th>\n",
              "      <th>ISEXCAVATION</th>\n",
              "      <th>ISFIXTURE</th>\n",
              "      <th>ISPAVING</th>\n",
              "      <th>ISLANDSCAPING</th>\n",
              "      <th>ISPROJECTIONS</th>\n",
              "      <th>ISPSRENTAL</th>\n",
              "      <th>TRACKINGNUMBER</th>\n",
              "      <th>PERMITNUMBER</th>\n",
              "      <th>...</th>\n",
              "      <th>GLOBALID</th>\n",
              "      <th>CREATOR</th>\n",
              "      <th>CREATED</th>\n",
              "      <th>EDITOR</th>\n",
              "      <th>EDITED</th>\n",
              "      <th>geometry</th>\n",
              "      <th>year</th>\n",
              "      <th>index_right</th>\n",
              "      <th>NAME</th>\n",
              "      <th>NBH_NAMES</th>\n",
              "    </tr>\n",
              "  </thead>\n",
              "  <tbody>\n",
              "    <tr>\n",
              "      <th>0</th>\n",
              "      <td>132528624</td>\n",
              "      <td>2019-11-23T05:31:31+00:00</td>\n",
              "      <td>F</td>\n",
              "      <td>T</td>\n",
              "      <td>F</td>\n",
              "      <td>F</td>\n",
              "      <td>F</td>\n",
              "      <td>F</td>\n",
              "      <td>341767</td>\n",
              "      <td>PA341767</td>\n",
              "      <td>...</td>\n",
              "      <td>{E710C9D0-3E24-0BAF-E053-782F520A589B}</td>\n",
              "      <td>None</td>\n",
              "      <td>None</td>\n",
              "      <td>None</td>\n",
              "      <td>None</td>\n",
              "      <td>POINT (-76.97442 38.92237)</td>\n",
              "      <td>2021</td>\n",
              "      <td>20.0</td>\n",
              "      <td>Cluster 22</td>\n",
              "      <td>Brookland, Brentwood, Langdon</td>\n",
              "    </tr>\n",
              "    <tr>\n",
              "      <th>1</th>\n",
              "      <td>132528627</td>\n",
              "      <td>2020-08-06T19:02:10+00:00</td>\n",
              "      <td>F</td>\n",
              "      <td>F</td>\n",
              "      <td>F</td>\n",
              "      <td>F</td>\n",
              "      <td>F</td>\n",
              "      <td>F</td>\n",
              "      <td>357263</td>\n",
              "      <td>PA357263</td>\n",
              "      <td>...</td>\n",
              "      <td>{E710C9D0-3E27-0BAF-E053-782F520A589B}</td>\n",
              "      <td>None</td>\n",
              "      <td>None</td>\n",
              "      <td>None</td>\n",
              "      <td>None</td>\n",
              "      <td>POINT (-77.03343 38.95947)</td>\n",
              "      <td>2021</td>\n",
              "      <td>7.0</td>\n",
              "      <td>Cluster 18</td>\n",
              "      <td>Brightwood Park, Crestwood, Petworth</td>\n",
              "    </tr>\n",
              "    <tr>\n",
              "      <th>2</th>\n",
              "      <td>132528632</td>\n",
              "      <td>2021-01-08T13:27:32+00:00</td>\n",
              "      <td>F</td>\n",
              "      <td>F</td>\n",
              "      <td>F</td>\n",
              "      <td>F</td>\n",
              "      <td>F</td>\n",
              "      <td>F</td>\n",
              "      <td>365940</td>\n",
              "      <td>PA365940</td>\n",
              "      <td>...</td>\n",
              "      <td>{E710C9D0-3E2C-0BAF-E053-782F520A589B}</td>\n",
              "      <td>None</td>\n",
              "      <td>None</td>\n",
              "      <td>None</td>\n",
              "      <td>None</td>\n",
              "      <td>POINT (-76.94746 38.90043)</td>\n",
              "      <td>2021</td>\n",
              "      <td>33.0</td>\n",
              "      <td>Cluster 30</td>\n",
              "      <td>Mayfair, Hillbrook, Mahaning Heights</td>\n",
              "    </tr>\n",
              "    <tr>\n",
              "      <th>3</th>\n",
              "      <td>132528636</td>\n",
              "      <td>2021-01-13T03:48:18+00:00</td>\n",
              "      <td>F</td>\n",
              "      <td>F</td>\n",
              "      <td>F</td>\n",
              "      <td>F</td>\n",
              "      <td>F</td>\n",
              "      <td>F</td>\n",
              "      <td>366176</td>\n",
              "      <td>PA366176</td>\n",
              "      <td>...</td>\n",
              "      <td>{E710C9D0-3E30-0BAF-E053-782F520A589B}</td>\n",
              "      <td>None</td>\n",
              "      <td>None</td>\n",
              "      <td>None</td>\n",
              "      <td>None</td>\n",
              "      <td>POINT (-76.94260 38.89600)</td>\n",
              "      <td>2021</td>\n",
              "      <td>33.0</td>\n",
              "      <td>Cluster 30</td>\n",
              "      <td>Mayfair, Hillbrook, Mahaning Heights</td>\n",
              "    </tr>\n",
              "    <tr>\n",
              "      <th>4</th>\n",
              "      <td>132528642</td>\n",
              "      <td>2021-01-18T22:20:40+00:00</td>\n",
              "      <td>F</td>\n",
              "      <td>F</td>\n",
              "      <td>F</td>\n",
              "      <td>F</td>\n",
              "      <td>F</td>\n",
              "      <td>F</td>\n",
              "      <td>366448</td>\n",
              "      <td>PA366448</td>\n",
              "      <td>...</td>\n",
              "      <td>{E710C9D0-3E36-0BAF-E053-782F520A589B}</td>\n",
              "      <td>None</td>\n",
              "      <td>None</td>\n",
              "      <td>None</td>\n",
              "      <td>None</td>\n",
              "      <td>POINT (-77.03137 38.94523)</td>\n",
              "      <td>2021</td>\n",
              "      <td>7.0</td>\n",
              "      <td>Cluster 18</td>\n",
              "      <td>Brightwood Park, Crestwood, Petworth</td>\n",
              "    </tr>\n",
              "  </tbody>\n",
              "</table>\n",
              "<p>5 rows × 37 columns</p>\n",
              "</div>\n",
              "      <button class=\"colab-df-convert\" onclick=\"convertToInteractive('df-150a4930-86dc-4cab-902b-d85d2da91154')\"\n",
              "              title=\"Convert this dataframe to an interactive table.\"\n",
              "              style=\"display:none;\">\n",
              "        \n",
              "  <svg xmlns=\"http://www.w3.org/2000/svg\" height=\"24px\"viewBox=\"0 0 24 24\"\n",
              "       width=\"24px\">\n",
              "    <path d=\"M0 0h24v24H0V0z\" fill=\"none\"/>\n",
              "    <path d=\"M18.56 5.44l.94 2.06.94-2.06 2.06-.94-2.06-.94-.94-2.06-.94 2.06-2.06.94zm-11 1L8.5 8.5l.94-2.06 2.06-.94-2.06-.94L8.5 2.5l-.94 2.06-2.06.94zm10 10l.94 2.06.94-2.06 2.06-.94-2.06-.94-.94-2.06-.94 2.06-2.06.94z\"/><path d=\"M17.41 7.96l-1.37-1.37c-.4-.4-.92-.59-1.43-.59-.52 0-1.04.2-1.43.59L10.3 9.45l-7.72 7.72c-.78.78-.78 2.05 0 2.83L4 21.41c.39.39.9.59 1.41.59.51 0 1.02-.2 1.41-.59l7.78-7.78 2.81-2.81c.8-.78.8-2.07 0-2.86zM5.41 20L4 18.59l7.72-7.72 1.47 1.35L5.41 20z\"/>\n",
              "  </svg>\n",
              "      </button>\n",
              "      \n",
              "  <style>\n",
              "    .colab-df-container {\n",
              "      display:flex;\n",
              "      flex-wrap:wrap;\n",
              "      gap: 12px;\n",
              "    }\n",
              "\n",
              "    .colab-df-convert {\n",
              "      background-color: #E8F0FE;\n",
              "      border: none;\n",
              "      border-radius: 50%;\n",
              "      cursor: pointer;\n",
              "      display: none;\n",
              "      fill: #1967D2;\n",
              "      height: 32px;\n",
              "      padding: 0 0 0 0;\n",
              "      width: 32px;\n",
              "    }\n",
              "\n",
              "    .colab-df-convert:hover {\n",
              "      background-color: #E2EBFA;\n",
              "      box-shadow: 0px 1px 2px rgba(60, 64, 67, 0.3), 0px 1px 3px 1px rgba(60, 64, 67, 0.15);\n",
              "      fill: #174EA6;\n",
              "    }\n",
              "\n",
              "    [theme=dark] .colab-df-convert {\n",
              "      background-color: #3B4455;\n",
              "      fill: #D2E3FC;\n",
              "    }\n",
              "\n",
              "    [theme=dark] .colab-df-convert:hover {\n",
              "      background-color: #434B5C;\n",
              "      box-shadow: 0px 1px 3px 1px rgba(0, 0, 0, 0.15);\n",
              "      filter: drop-shadow(0px 1px 2px rgba(0, 0, 0, 0.3));\n",
              "      fill: #FFFFFF;\n",
              "    }\n",
              "  </style>\n",
              "\n",
              "      <script>\n",
              "        const buttonEl =\n",
              "          document.querySelector('#df-150a4930-86dc-4cab-902b-d85d2da91154 button.colab-df-convert');\n",
              "        buttonEl.style.display =\n",
              "          google.colab.kernel.accessAllowed ? 'block' : 'none';\n",
              "\n",
              "        async function convertToInteractive(key) {\n",
              "          const element = document.querySelector('#df-150a4930-86dc-4cab-902b-d85d2da91154');\n",
              "          const dataTable =\n",
              "            await google.colab.kernel.invokeFunction('convertToInteractive',\n",
              "                                                     [key], {});\n",
              "          if (!dataTable) return;\n",
              "\n",
              "          const docLinkHtml = 'Like what you see? Visit the ' +\n",
              "            '<a target=\"_blank\" href=https://colab.research.google.com/notebooks/data_table.ipynb>data table notebook</a>'\n",
              "            + ' to learn more about interactive tables.';\n",
              "          element.innerHTML = '';\n",
              "          dataTable['output_type'] = 'display_data';\n",
              "          await google.colab.output.renderOutput(dataTable, element);\n",
              "          const docLink = document.createElement('div');\n",
              "          docLink.innerHTML = docLinkHtml;\n",
              "          element.appendChild(docLink);\n",
              "        }\n",
              "      </script>\n",
              "    </div>\n",
              "  </div>\n",
              "  "
            ]
          },
          "metadata": {},
          "execution_count": 11
        }
      ]
    },
    {
      "cell_type": "markdown",
      "source": [
        "# Count Permits per Cluster per Year"
      ],
      "metadata": {
        "id": "WC_SsjehrfzG"
      }
    },
    {
      "cell_type": "code",
      "source": [
        "counts_by_year = gdf_join.value_counts([\"year\", \"NAME\"]).to_frame().reset_index().sort_values([\"NAME\", \"year\"])\n",
        "counts_by_year.columns = [\"year\", \"cluster\", \"permit_count\"]\n",
        "counts_by_year"
      ],
      "metadata": {
        "colab": {
          "base_uri": "https://localhost:8080/",
          "height": 424
        },
        "id": "yia2LISTpnTt",
        "outputId": "7fcdd034-bef3-4faf-be90-0fe4eced8b5e"
      },
      "execution_count": null,
      "outputs": [
        {
          "output_type": "execute_result",
          "data": {
            "text/plain": [
              "     year    cluster  permit_count\n",
              "312  2012  Cluster 1           148\n",
              "216  2013  Cluster 1           263\n",
              "192  2014  Cluster 1           300\n",
              "124  2015  Cluster 1           432\n",
              "148  2016  Cluster 1           381\n",
              "..    ...        ...           ...\n",
              "144  2017  Cluster 9           389\n",
              "112  2018  Cluster 9           463\n",
              "117  2019  Cluster 9           450\n",
              "63   2020  Cluster 9           611\n",
              "134  2021  Cluster 9           413\n",
              "\n",
              "[451 rows x 3 columns]"
            ],
            "text/html": [
              "\n",
              "  <div id=\"df-b10310e3-a7cb-4277-8908-09c5947c4394\">\n",
              "    <div class=\"colab-df-container\">\n",
              "      <div>\n",
              "<style scoped>\n",
              "    .dataframe tbody tr th:only-of-type {\n",
              "        vertical-align: middle;\n",
              "    }\n",
              "\n",
              "    .dataframe tbody tr th {\n",
              "        vertical-align: top;\n",
              "    }\n",
              "\n",
              "    .dataframe thead th {\n",
              "        text-align: right;\n",
              "    }\n",
              "</style>\n",
              "<table border=\"1\" class=\"dataframe\">\n",
              "  <thead>\n",
              "    <tr style=\"text-align: right;\">\n",
              "      <th></th>\n",
              "      <th>year</th>\n",
              "      <th>cluster</th>\n",
              "      <th>permit_count</th>\n",
              "    </tr>\n",
              "  </thead>\n",
              "  <tbody>\n",
              "    <tr>\n",
              "      <th>312</th>\n",
              "      <td>2012</td>\n",
              "      <td>Cluster 1</td>\n",
              "      <td>148</td>\n",
              "    </tr>\n",
              "    <tr>\n",
              "      <th>216</th>\n",
              "      <td>2013</td>\n",
              "      <td>Cluster 1</td>\n",
              "      <td>263</td>\n",
              "    </tr>\n",
              "    <tr>\n",
              "      <th>192</th>\n",
              "      <td>2014</td>\n",
              "      <td>Cluster 1</td>\n",
              "      <td>300</td>\n",
              "    </tr>\n",
              "    <tr>\n",
              "      <th>124</th>\n",
              "      <td>2015</td>\n",
              "      <td>Cluster 1</td>\n",
              "      <td>432</td>\n",
              "    </tr>\n",
              "    <tr>\n",
              "      <th>148</th>\n",
              "      <td>2016</td>\n",
              "      <td>Cluster 1</td>\n",
              "      <td>381</td>\n",
              "    </tr>\n",
              "    <tr>\n",
              "      <th>...</th>\n",
              "      <td>...</td>\n",
              "      <td>...</td>\n",
              "      <td>...</td>\n",
              "    </tr>\n",
              "    <tr>\n",
              "      <th>144</th>\n",
              "      <td>2017</td>\n",
              "      <td>Cluster 9</td>\n",
              "      <td>389</td>\n",
              "    </tr>\n",
              "    <tr>\n",
              "      <th>112</th>\n",
              "      <td>2018</td>\n",
              "      <td>Cluster 9</td>\n",
              "      <td>463</td>\n",
              "    </tr>\n",
              "    <tr>\n",
              "      <th>117</th>\n",
              "      <td>2019</td>\n",
              "      <td>Cluster 9</td>\n",
              "      <td>450</td>\n",
              "    </tr>\n",
              "    <tr>\n",
              "      <th>63</th>\n",
              "      <td>2020</td>\n",
              "      <td>Cluster 9</td>\n",
              "      <td>611</td>\n",
              "    </tr>\n",
              "    <tr>\n",
              "      <th>134</th>\n",
              "      <td>2021</td>\n",
              "      <td>Cluster 9</td>\n",
              "      <td>413</td>\n",
              "    </tr>\n",
              "  </tbody>\n",
              "</table>\n",
              "<p>451 rows × 3 columns</p>\n",
              "</div>\n",
              "      <button class=\"colab-df-convert\" onclick=\"convertToInteractive('df-b10310e3-a7cb-4277-8908-09c5947c4394')\"\n",
              "              title=\"Convert this dataframe to an interactive table.\"\n",
              "              style=\"display:none;\">\n",
              "        \n",
              "  <svg xmlns=\"http://www.w3.org/2000/svg\" height=\"24px\"viewBox=\"0 0 24 24\"\n",
              "       width=\"24px\">\n",
              "    <path d=\"M0 0h24v24H0V0z\" fill=\"none\"/>\n",
              "    <path d=\"M18.56 5.44l.94 2.06.94-2.06 2.06-.94-2.06-.94-.94-2.06-.94 2.06-2.06.94zm-11 1L8.5 8.5l.94-2.06 2.06-.94-2.06-.94L8.5 2.5l-.94 2.06-2.06.94zm10 10l.94 2.06.94-2.06 2.06-.94-2.06-.94-.94-2.06-.94 2.06-2.06.94z\"/><path d=\"M17.41 7.96l-1.37-1.37c-.4-.4-.92-.59-1.43-.59-.52 0-1.04.2-1.43.59L10.3 9.45l-7.72 7.72c-.78.78-.78 2.05 0 2.83L4 21.41c.39.39.9.59 1.41.59.51 0 1.02-.2 1.41-.59l7.78-7.78 2.81-2.81c.8-.78.8-2.07 0-2.86zM5.41 20L4 18.59l7.72-7.72 1.47 1.35L5.41 20z\"/>\n",
              "  </svg>\n",
              "      </button>\n",
              "      \n",
              "  <style>\n",
              "    .colab-df-container {\n",
              "      display:flex;\n",
              "      flex-wrap:wrap;\n",
              "      gap: 12px;\n",
              "    }\n",
              "\n",
              "    .colab-df-convert {\n",
              "      background-color: #E8F0FE;\n",
              "      border: none;\n",
              "      border-radius: 50%;\n",
              "      cursor: pointer;\n",
              "      display: none;\n",
              "      fill: #1967D2;\n",
              "      height: 32px;\n",
              "      padding: 0 0 0 0;\n",
              "      width: 32px;\n",
              "    }\n",
              "\n",
              "    .colab-df-convert:hover {\n",
              "      background-color: #E2EBFA;\n",
              "      box-shadow: 0px 1px 2px rgba(60, 64, 67, 0.3), 0px 1px 3px 1px rgba(60, 64, 67, 0.15);\n",
              "      fill: #174EA6;\n",
              "    }\n",
              "\n",
              "    [theme=dark] .colab-df-convert {\n",
              "      background-color: #3B4455;\n",
              "      fill: #D2E3FC;\n",
              "    }\n",
              "\n",
              "    [theme=dark] .colab-df-convert:hover {\n",
              "      background-color: #434B5C;\n",
              "      box-shadow: 0px 1px 3px 1px rgba(0, 0, 0, 0.15);\n",
              "      filter: drop-shadow(0px 1px 2px rgba(0, 0, 0, 0.3));\n",
              "      fill: #FFFFFF;\n",
              "    }\n",
              "  </style>\n",
              "\n",
              "      <script>\n",
              "        const buttonEl =\n",
              "          document.querySelector('#df-b10310e3-a7cb-4277-8908-09c5947c4394 button.colab-df-convert');\n",
              "        buttonEl.style.display =\n",
              "          google.colab.kernel.accessAllowed ? 'block' : 'none';\n",
              "\n",
              "        async function convertToInteractive(key) {\n",
              "          const element = document.querySelector('#df-b10310e3-a7cb-4277-8908-09c5947c4394');\n",
              "          const dataTable =\n",
              "            await google.colab.kernel.invokeFunction('convertToInteractive',\n",
              "                                                     [key], {});\n",
              "          if (!dataTable) return;\n",
              "\n",
              "          const docLinkHtml = 'Like what you see? Visit the ' +\n",
              "            '<a target=\"_blank\" href=https://colab.research.google.com/notebooks/data_table.ipynb>data table notebook</a>'\n",
              "            + ' to learn more about interactive tables.';\n",
              "          element.innerHTML = '';\n",
              "          dataTable['output_type'] = 'display_data';\n",
              "          await google.colab.output.renderOutput(dataTable, element);\n",
              "          const docLink = document.createElement('div');\n",
              "          docLink.innerHTML = docLinkHtml;\n",
              "          element.appendChild(docLink);\n",
              "        }\n",
              "      </script>\n",
              "    </div>\n",
              "  </div>\n",
              "  "
            ]
          },
          "metadata": {},
          "execution_count": 12
        }
      ]
    },
    {
      "cell_type": "markdown",
      "source": [
        "# Merge all the Data Together"
      ],
      "metadata": {
        "id": "TFs0L9DOr6KL"
      }
    },
    {
      "cell_type": "code",
      "source": [
        "pivoted_df = counts_by_year.pivot(index=\"cluster\", columns=\"year\", values=\"permit_count\")\n",
        "\n",
        "pivoted_gdf = pd.merge(pivoted_df, gdf_clusters[[\"NAME\", \"NBH_NAMES\", \"geometry\"]], how=\"left\", left_index=True, right_on=\"NAME\")\n",
        "pivoted_gdf = gpd.GeoDataFrame(pivoted_gdf, geometry=\"geometry\", crs=4326)"
      ],
      "metadata": {
        "id": "sjb2iPvXpzT-"
      },
      "execution_count": null,
      "outputs": []
    },
    {
      "cell_type": "markdown",
      "source": [
        "# Add the Percent Change from 2012 to 2021"
      ],
      "metadata": {
        "id": "qhwpjhrntg8e"
      }
    },
    {
      "cell_type": "code",
      "source": [
        "pivoted_gdf[\"per_change\"] = (pivoted_gdf[\"2021\"] / pivoted_gdf[\"2012\"]) * 100"
      ],
      "metadata": {
        "id": "rWL_KYc0p2UL"
      },
      "execution_count": null,
      "outputs": []
    },
    {
      "cell_type": "markdown",
      "source": [
        "# Plot the Top 10 Clusters with the Highest Percent Change"
      ],
      "metadata": {
        "id": "lL1rTOelucse"
      }
    },
    {
      "cell_type": "code",
      "source": [
        "top_10 = pivoted_gdf.sort_values(\"per_change\", ascending=False).head(10)"
      ],
      "metadata": {
        "id": "8KO0xZ73uiss"
      },
      "execution_count": null,
      "outputs": []
    },
    {
      "cell_type": "code",
      "source": [
        "years = top_10.columns[0:-4]\n",
        "years"
      ],
      "metadata": {
        "colab": {
          "base_uri": "https://localhost:8080/"
        },
        "id": "8RmKIXSyu0ej",
        "outputId": "71290479-0f30-4c2c-dcb9-3b853b8685d2"
      },
      "execution_count": null,
      "outputs": [
        {
          "output_type": "execute_result",
          "data": {
            "text/plain": [
              "Index(['2012', '2013', '2014', '2015', '2016', '2017', '2018', '2019', '2020',\n",
              "       '2021'],\n",
              "      dtype='object')"
            ]
          },
          "metadata": {},
          "execution_count": 16
        }
      ]
    },
    {
      "cell_type": "code",
      "source": [
        "plt.figure(figsize=(12, 6))\n",
        "\n",
        "for idx, row in top_10.iterrows():\n",
        "    plt.plot(years, row[years], label=row[\"NAME\"])\n",
        "\n",
        "plt.legend()"
      ],
      "metadata": {
        "colab": {
          "base_uri": "https://localhost:8080/",
          "height": 392
        },
        "id": "6nL4Gaqsu207",
        "outputId": "ab103f96-bbcc-4fb9-e198-b073f20292b9"
      },
      "execution_count": null,
      "outputs": [
        {
          "output_type": "execute_result",
          "data": {
            "text/plain": [
              "<matplotlib.legend.Legend at 0x7f24a08cc250>"
            ]
          },
          "metadata": {},
          "execution_count": 17
        },
        {
          "output_type": "display_data",
          "data": {
            "text/plain": [
              "<Figure size 864x432 with 1 Axes>"
            ],
            "image/png": "[encoded data removed]"
          },
          "metadata": {
            "needs_background": "light"
          }
        }
      ]
    },
    {
      "cell_type": "markdown",
      "source": [
        "# Plot all the Neighborhood Clusters as a HeatMap"
      ],
      "metadata": {
        "id": "Z2HlMo64u_8M"
      }
    },
    {
      "cell_type": "code",
      "source": [
        "pivoted_gdf.plot(column=\"per_change\", cmap=\"RdYlGn\", legend=True, figsize=(10, 10))"
      ],
      "metadata": {
        "colab": {
          "base_uri": "https://localhost:8080/",
          "height": 610
        },
        "id": "7uyBu-9gvFX0",
        "outputId": "01199689-3a01-4efd-d802-61ecd074e817"
      },
      "execution_count": null,
      "outputs": [
        {
          "output_type": "execute_result",
          "data": {
            "text/plain": [
              "<matplotlib.axes._subplots.AxesSubplot at 0x7f24a07c3c50>"
            ]
          },
          "metadata": {},
          "execution_count": 18
        },
        {
          "output_type": "display_data",
          "data": {
            "text/plain": [
              "<Figure size 720x720 with 2 Axes>"
            ],
            "image/png": "[encoded data removed]"
          },
          "metadata": {
            "needs_background": "light"
          }
        }
      ]
    },
    {
      "cell_type": "markdown",
      "source": [
        "# Write to File"
      ],
      "metadata": {
        "id": "oXBEL9_WvNBG"
      }
    },
    {
      "cell_type": "code",
      "source": [
        "pivoted_gdf.to_file(\"construction_permits_by_cluster_by_year.geojson\", driver=\"GeoJSON\")"
      ],
      "metadata": {
        "id": "jzb3HnJJvRTl"
      },
      "execution_count": null,
      "outputs": []
    }
  ],
  "metadata": {
    "colab": {
      "name": "introduction-to-geopandas.ipynb",
      "provenance": [],
      "collapsed_sections": []
    },
    "kernelspec": {
      "display_name": "Python 3",
      "name": "python3"
    },
    "language_info": {
      "name": "python"
    }
  },
  "nbformat": 4,
  "nbformat_minor": 0
}